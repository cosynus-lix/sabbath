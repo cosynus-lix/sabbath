{
 "cells": [
  {
   "cell_type": "code",
   "execution_count": 1,
   "metadata": {},
   "outputs": [],
   "source": [
    "size_system = 5\n",
    "\n",
    "import pickle\n",
    "import numpy as np\n",
    "from stability_hs import *\n",
    "import sympy as sp\n",
    "\n",
    "with open('lf0_old_coord.pickle', 'rb') as pickle_file:\n",
    "    P1_sym_old_coord = pickle.load(pickle_file)\n",
    "with open('lf1_old_coord.pickle', 'rb') as pickle_file:\n",
    "    P2_sym_old_coord = pickle.load(pickle_file)\n",
    "with open('vector_sw_pr_mode0_less0_old_coord.pickle', 'rb') as pickle_file:\n",
    "    vector_sw_pr_mode0_less0 = pickle.load(pickle_file)\n",
    "with open('lambdas.pickle', 'rb') as pickle_file:\n",
    "    lambdas = pickle.load(pickle_file)\n",
    "with open('eta2.pickle', 'rb') as pickle_file:\n",
    "    eta2 = pickle.load(pickle_file)\n",
    "with open('mu2.pickle', 'rb') as pickle_file:\n",
    "    mu2 = pickle.load(pickle_file)\n",
    "\n",
    "from scipy import io\n",
    "HybridSystemMatlab = io.loadmat(f\"PI_controller_converter/Reformulate/data_matlab/data_to_python_size_{size_system}.mat\")\n",
    "\n",
    "def reformulate_PI(A_or, B_or, C_or, Invar_or, KP_or, KI_or, num_var, num_con, num_out, ref_val):\n",
    "    # We reformulate a PI controller of the form x' = A_or * x + B_or * u \n",
    "    # (_or stands for original)\n",
    "    # in the new variable w = [x; u], obtaining the dynsys of the form\n",
    "    #  w' = A_homo * w + b_homo.\n",
    "    # Also the linear condition of the switch is modified accordingly (does not\n",
    "    # care about the value of u).\n",
    "\n",
    "    A_homo_top = np.hstack([A_or, B_or])\n",
    "    N = -1 * np.dot(KP_or, np.dot(C_or, A_or)) - np.dot(KI_or, C_or)\n",
    "    M = -1 * np.dot(KP_or, np.dot(C_or, B_or))\n",
    "    A_homo_bot = np.hstack([N, M])\n",
    "    A_homo = np.vstack([A_homo_top, A_homo_bot])\n",
    "\n",
    "    b_bot = np.dot(KI_or, ref_val)\n",
    "    b_homo = np.vstack([np.zeros([num_var,1]), b_bot])\n",
    "\n",
    "    C_homo = np.hstack([C_or, np.zeros([num_out, num_con])])\n",
    "\n",
    "    Invar_geq0_homo = np.hstack([Invar_or[:,:num_var], np.zeros([len(Invar_or), num_con]), Invar_or[:,[-1]] ])\n",
    "\n",
    "    return (A_homo, b_homo, C_homo, Invar_geq0_homo)"
   ]
  },
  {
   "cell_type": "code",
   "execution_count": null,
   "metadata": {},
   "outputs": [],
   "source": []
  },
  {
   "cell_type": "code",
   "execution_count": null,
   "metadata": {},
   "outputs": [],
   "source": []
  },
  {
   "cell_type": "code",
   "execution_count": null,
   "metadata": {},
   "outputs": [],
   "source": []
  },
  {
   "cell_type": "code",
   "execution_count": 2,
   "metadata": {},
   "outputs": [],
   "source": [
    "\n",
    "# We format the loaded data in python files\n",
    "num_modes = HybridSystemMatlab[\"num_modes\"][0][0]\n",
    "num_variables = HybridSystemMatlab[\"num_variables\"][0][0]\n",
    "num_controllers = HybridSystemMatlab[\"num_controllers\"][0][0]\n",
    "num_outputs = HybridSystemMatlab[\"num_outputs\"][0][0]\n",
    "reference_values = HybridSystemMatlab[\"reference_values\"]\n",
    "# reference_values = np.asarray(np.matrix([[0.5],[0],[-1],[20]]))\n",
    "As = []\n",
    "Bs = []\n",
    "Cs = []\n",
    "KIs = []\n",
    "KPs = []\n",
    "Invars_geq0 = []\n",
    "for ind_mode in range(num_modes):\n",
    "    As.append(HybridSystemMatlab[f\"A_{ind_mode}\"])\n",
    "    Bs.append(HybridSystemMatlab[f\"B_{ind_mode}\"])\n",
    "    Cs.append(HybridSystemMatlab[f\"C_{ind_mode}\"])\n",
    "    KIs.append(HybridSystemMatlab[f\"KI_{ind_mode}\"])\n",
    "    KPs.append(HybridSystemMatlab[f\"KP_{ind_mode}\"])\n",
    "    Invars_geq0.append(HybridSystemMatlab[f\"Invar_{ind_mode}_geq0\"])\n",
    "if size_system == 18:\n",
    "    np.set_printoptions(precision=3, linewidth=1000, suppress=True)\n",
    "else:\n",
    "    np.set_printoptions(precision=3, linewidth=1000, suppress=True)\n",
    "\n",
    "logging.info(f\"\\n\\n\\nThe system has \\n{num_modes} modes, \\n{num_variables} variables, \\n{num_controllers} controllers, \\n{num_outputs} outputs.\\nReference values are {np.transpose(reference_values)}.\\n\")\n",
    "\n",
    "logging.info(f\"Mode 0: g * [x;1] >= 0, where g = {Invars_geq0[0]}\")\n",
    "logging.info(f\"The dynamics is x_dot = A x + B u, where\\n A = \\n{As[0]}\\n and \\nB = \\n{Bs[0]}.\\nThe control is given by \\n K_P = \\n{KPs[0]}\\n and \\nK_I = \\n{KIs[0]}.\\n.\")\n",
    "logging.info(f\"Mode 1: g * [x;1] >= 0, where g = {Invars_geq0[1]}\")\n",
    "logging.info(f\"The dynamics is x_dot = A x + B u, where\\n A = \\n{As[1]}\\n and \\nB = \\n{Bs[1]}.\\nThe control is given by \\n K_P = \\n{KPs[1]}\\n and \\nK_I = \\n{KIs[1]}.\\n.\")\n",
    "\n",
    "num_homo_variables = num_variables + num_controllers\n",
    "\n",
    "# We reformulate the system with PI controller in a homogenous system\n",
    "As_homo = []\n",
    "bs_homo = []\n",
    "Cs_homo = []\n",
    "Invars_geq0_homo = []\n",
    "\n",
    "for ind_mode in range(num_modes):\n",
    "    (A_homo, b_homo, C_homo, Invar_geq0_homo) = reformulate_PI(As[ind_mode], Bs[ind_mode], Cs[ind_mode], \n",
    "                                                            Invars_geq0[ind_mode], KPs[ind_mode], KIs[ind_mode], \n",
    "                                                            num_variables, num_controllers, num_outputs, reference_values)\n",
    "\n",
    "    As_homo.append(A_homo)\n",
    "    bs_homo.append(b_homo)\n",
    "    Cs_homo.append(C_homo)\n",
    "    Invars_geq0_homo.append(Invar_geq0_homo)\n"
   ]
  },
  {
   "cell_type": "code",
   "execution_count": 3,
   "metadata": {},
   "outputs": [],
   "source": [
    "b_bot = np.dot(KIs[ind_mode], reference_values)\n",
    "b_homo = np.vstack([np.zeros([num_variables,1]), b_bot])"
   ]
  },
  {
   "cell_type": "code",
   "execution_count": 4,
   "metadata": {},
   "outputs": [
    {
     "data": {
      "text/plain": [
       "array([[   0.],\n",
       "       [   0.],\n",
       "       [   0.],\n",
       "       [   0.],\n",
       "       [   0.],\n",
       "       [ 100.],\n",
       "       [-100.],\n",
       "       [  40.]])"
      ]
     },
     "execution_count": 4,
     "metadata": {},
     "output_type": "execute_result"
    }
   ],
   "source": [
    "b_homo"
   ]
  },
  {
   "cell_type": "code",
   "execution_count": 14,
   "metadata": {},
   "outputs": [],
   "source": [
    "old_refs = pc.Constant(\"old_refs\", reference_values.astype(np.double), shape=(4,1))\n",
    "\n",
    "sdp = pc.Problem()\n",
    "\n",
    "change_in_r = 0 // pc.RealVariable(\"change_in_r\", shape = (3, 1))\n",
    "\n",
    "sdp.maximize = sum(change_in_r)\n",
    "\n",
    "new_refs = old_refs + change_in_r\n",
    "\n",
    "A0_const = pc.Constant(\"A0_const\", As[0].astype(np.double))\n",
    "B0_const = pc.Constant(\"B0_const\", Bs[0].astype(np.double))\n",
    "\n",
    "A0_homo_top_const = A0_const & B0_const\n",
    "\n",
    "N0 = -1 * np.dot(KPs[0], np.dot(Cs[0], As[0])) - np.dot(KIs[0], Cs[0])\n",
    "M0 = -1 * np.dot(KPs[0], np.dot(Cs[0], Bs[0]))\n",
    "\n",
    "N0_const = pc.Constant(\"N0_const\", N0.astype(np.double))\n",
    "M0_const = pc.Constant(\"M0_const\", M0.astype(np.double))\n",
    "\n",
    "A0_homo_bot = N0_const & M0_const\n",
    "A0_homo = A0_homo_top_const // A0_homo_bot\n",
    "\n",
    "b0_bot = pc.Constant(\"KIs0\", np.matrix(KIs[0], float)) * new_refs\n",
    "b0_homo = pc.Constant(\"zeros\", np.zeros([n-4,1])) // b0_bot\n",
    "\n",
    "A0bar_old = (A0_homo & b0_homo) // (0 & 0)\n",
    "\n",
    "\n",
    "A1_const = pc.Constant(\"A1_const\", As[1].astype(np.double))\n",
    "B1_const = pc.Constant(\"B1_const\", Bs[1].astype(np.double))\n",
    "\n",
    "A1_homo_top_const = A1_const & B1_const\n",
    "\n",
    "N1 = -1 * np.dot(KPs[1], np.dot(Cs[1], As[1])) - np.dot(KIs[1], Cs[1])\n",
    "M1 = -1 * np.dot(KPs[1], np.dot(Cs[1], Bs[1]))\n",
    "\n",
    "N1_const = pc.Constant(\"N1_const\", N1.astype(np.double))\n",
    "M1_const = pc.Constant(\"M1_const\", M1.astype(np.double))\n",
    "\n",
    "A1_homo_bot = N1_const & M1_const\n",
    "A1_homo = A1_homo_top_const // A1_homo_bot\n",
    "\n",
    "b1_bot = pc.Constant(\"KIs1\", np.matrix(KIs[1], float)) * new_refs\n",
    "b1_homo = pc.Constant(\"zeros\", np.zeros([n-4,1])) // b1_bot\n",
    "\n",
    "A1bar_old = (A1_homo & b1_homo) // (0 & 0)\n",
    "\n",
    "vector_sw_pr_mode0_geq0 = -vector_sw_pr_mode0_less0"
   ]
  },
  {
   "cell_type": "code",
   "execution_count": null,
   "metadata": {},
   "outputs": [],
   "source": []
  },
  {
   "cell_type": "code",
   "execution_count": 25,
   "metadata": {},
   "outputs": [
    {
     "ename": "NotImplementedError",
     "evalue": "PICOS does not support multidimensional quadratic expressions at this point. More precisely, one factor must be constant or the result must be scalar.",
     "output_type": "error",
     "traceback": [
      "\u001b[0;31m---------------------------------------------------------------------------\u001b[0m",
      "\u001b[0;31mNotImplementedError\u001b[0m                       Traceback (most recent call last)",
      "Cell \u001b[0;32mIn[25], line 12\u001b[0m\n\u001b[1;32m      9\u001b[0m Bnow \u001b[39m=\u001b[39m pc\u001b[39m.\u001b[39mConstant(\u001b[39m\"\u001b[39m\u001b[39mzeros\u001b[39m\u001b[39m\"\u001b[39m, np\u001b[39m.\u001b[39mzeros([n\u001b[39m-\u001b[39m\u001b[39m4\u001b[39m,\u001b[39m4\u001b[39m])) \u001b[39m/\u001b[39m\u001b[39m/\u001b[39m pc\u001b[39m.\u001b[39mConstant(\u001b[39m\"\u001b[39m\u001b[39mKIs0\u001b[39m\u001b[39m\"\u001b[39m, np\u001b[39m.\u001b[39mmatrix(KIs[\u001b[39m0\u001b[39m], \u001b[39mfloat\u001b[39m))\n\u001b[1;32m     10\u001b[0m translation_sdp \u001b[39m=\u001b[39m (pc\u001b[39m.\u001b[39mConstant(\u001b[39m\"\u001b[39m\u001b[39mid\u001b[39m\u001b[39m\"\u001b[39m, np\u001b[39m.\u001b[39meye(n\u001b[39m-\u001b[39m\u001b[39m1\u001b[39m)) \u001b[39m&\u001b[39m \u001b[39m-\u001b[39m A0_homo_inv \u001b[39m*\u001b[39m Bnow \u001b[39m*\u001b[39m change_in_r) \u001b[39m/\u001b[39m\u001b[39m/\u001b[39m (\u001b[39m0\u001b[39m \u001b[39m&\u001b[39m \u001b[39m1\u001b[39m)\n\u001b[0;32m---> 12\u001b[0m P1 \u001b[39m=\u001b[39m translation_sdp\u001b[39m.\u001b[39;49mT \u001b[39m*\u001b[39;49m P1 \u001b[39m*\u001b[39;49m translation_sdp\n\u001b[1;32m     14\u001b[0m C0 \u001b[39m=\u001b[39m pc\u001b[39m.\u001b[39mConstant(\u001b[39m\"\u001b[39m\u001b[39mC0\u001b[39m\u001b[39m\"\u001b[39m, np\u001b[39m.\u001b[39mtranspose(C_homo[\u001b[39m0\u001b[39m]))\n\u001b[1;32m     16\u001b[0m cd \u001b[39m=\u001b[39m (C0 \u001b[39m/\u001b[39m\u001b[39m/\u001b[39m new_refs[\u001b[39m0\u001b[39m])\u001b[39m.\u001b[39mT\n",
      "File \u001b[0;32m~/.local/lib/python3.10/site-packages/picos/expressions/data.py:1169\u001b[0m, in \u001b[0;36mconvert_operands.<locals>.decorator.<locals>.wrapper\u001b[0;34m(lhs, rhs, *args, **kwargs)\u001b[0m\n\u001b[1;32m   1163\u001b[0m \u001b[39m# Further check if already matching size.\u001b[39;00m\n\u001b[1;32m   1164\u001b[0m \u001b[39mif\u001b[39;00m (diagBroadcast \u001b[39mand\u001b[39;00m lhsShape \u001b[39m==\u001b[39m rhsShape \u001b[39mand\u001b[39;00m lhsSquare) \\\n\u001b[1;32m   1165\u001b[0m \u001b[39mor\u001b[39;00m (horiCat \u001b[39mand\u001b[39;00m lm \u001b[39m==\u001b[39m rm) \\\n\u001b[1;32m   1166\u001b[0m \u001b[39mor\u001b[39;00m (vertCat \u001b[39mand\u001b[39;00m ln \u001b[39m==\u001b[39m rn) \\\n\u001b[1;32m   1167\u001b[0m \u001b[39mor\u001b[39;00m (rMatMul \u001b[39mand\u001b[39;00m ln \u001b[39m==\u001b[39m rm) \\\n\u001b[1;32m   1168\u001b[0m \u001b[39mor\u001b[39;00m (lMatMul \u001b[39mand\u001b[39;00m rn \u001b[39m==\u001b[39m lm):\n\u001b[0;32m-> 1169\u001b[0m     \u001b[39mreturn\u001b[39;00m operator(lhs, rhs, \u001b[39m*\u001b[39;49margs, \u001b[39m*\u001b[39;49m\u001b[39m*\u001b[39;49mkwargs)\n\u001b[1;32m   1171\u001b[0m lhsL, rhsL \u001b[39m=\u001b[39m \u001b[39mlen\u001b[39m(lhs), \u001b[39mlen\u001b[39m(rhs)\n\u001b[1;32m   1173\u001b[0m \u001b[39m# scalarLHS and scalarRHS are the only two shape requirements\u001b[39;00m\n\u001b[1;32m   1174\u001b[0m \u001b[39m# that may appear together, so handle all combinations here.\u001b[39;00m\n",
      "File \u001b[0;32m~/.local/lib/python3.10/site-packages/picos/expressions/expression.py:159\u001b[0m, in \u001b[0;36mrefine_operands.<locals>.decorator.<locals>.wrapper\u001b[0;34m(lhs, rhs, *args, **kwargs)\u001b[0m\n\u001b[1;32m    156\u001b[0m \u001b[39melse\u001b[39;00m:\n\u001b[1;32m    157\u001b[0m     rhs_refined \u001b[39m=\u001b[39m rhs\u001b[39m.\u001b[39mrefined\n\u001b[0;32m--> 159\u001b[0m \u001b[39mreturn\u001b[39;00m the_operator(lhs_refined, rhs_refined, \u001b[39m*\u001b[39;49margs, \u001b[39m*\u001b[39;49m\u001b[39m*\u001b[39;49mkwargs)\n",
      "File \u001b[0;32m~/.local/lib/python3.10/site-packages/picos/expressions/exp_affine.py:191\u001b[0m, in \u001b[0;36mComplexAffineExpression.__mul__\u001b[0;34m(self, other)\u001b[0m\n\u001b[1;32m    189\u001b[0m         \u001b[39mreturn\u001b[39;00m result\n\u001b[1;32m    190\u001b[0m     \u001b[39melse\u001b[39;00m:\n\u001b[0;32m--> 191\u001b[0m         \u001b[39mraise\u001b[39;00m \u001b[39mNotImplementedError\u001b[39;00m(\n\u001b[1;32m    192\u001b[0m             \u001b[39m\"\u001b[39m\u001b[39mPICOS does not support multidimensional quadratic \u001b[39m\u001b[39m\"\u001b[39m\n\u001b[1;32m    193\u001b[0m             \u001b[39m\"\u001b[39m\u001b[39mexpressions at this point. More precisely, one factor must\u001b[39m\u001b[39m\"\u001b[39m\n\u001b[1;32m    194\u001b[0m             \u001b[39m\"\u001b[39m\u001b[39m be constant or the result must be scalar.\u001b[39m\u001b[39m\"\u001b[39m)\n\u001b[1;32m    195\u001b[0m \u001b[39melse\u001b[39;00m:\n\u001b[1;32m    196\u001b[0m     \u001b[39mreturn\u001b[39;00m BiaffineExpression\u001b[39m.\u001b[39m\u001b[39m__mul__\u001b[39m(\u001b[39mself\u001b[39m, other)\n",
      "\u001b[0;31mNotImplementedError\u001b[0m: PICOS does not support multidimensional quadratic expressions at this point. More precisely, one factor must be constant or the result must be scalar."
     ]
    }
   ],
   "source": [
    "n = size_system + 4\n",
    "theta = 1\n",
    "\n",
    "\n",
    "\n",
    "P1 = pc.Constant(\"P1_old_coord\", np.matrix(P1_sym_old_coord,float))\n",
    "\n",
    "A0_homo_inv = pc.Constant(\"A_0_homo_inv\", np.linalg.inv(A0_homo.np))\n",
    "Bnow = pc.Constant(\"zeros\", np.zeros([n-4,4])) // pc.Constant(\"KIs0\", np.matrix(KIs[0], float))\n",
    "translation_sdp = (pc.Constant(\"id\", np.eye(n-1)) & - A0_homo_inv * Bnow * change_in_r) // (0 & 1)\n",
    "\n",
    "P1 = translation_sdp.T * P1 * translation_sdp\n",
    "\n",
    "C0 = pc.Constant(\"C0\", np.transpose(C_homo[0]))\n",
    "\n",
    "cd = (C0 // new_refs[0]).T\n",
    "\n",
    "can_vects = []\n",
    "for k in range(n):\n",
    "    can_vects.append( pc.Constant(f\"canvec{k}\", np.matrix(can_vec_sp(k+1, n),float)))\n",
    "\n",
    "# cd = new_refs[0]\n",
    "# for k in range(n-2, -1, -1):\n",
    "#     cd = C_homo[0][k] & cd\n",
    "Qcd = []\n",
    "for k in range(n):\n",
    "    Qcd.append( can_vects[k] * cd + (can_vects[k] * cd).T)\n",
    "\n",
    "lambdas_const = pc.Constant(\"lambdas_const\", lambdas)\n",
    "\n",
    "P2b = P1\n",
    "for index in range(n):\n",
    "    P2b = P2b + lambdas_const[index] * Qcd[index]\n",
    "\n",
    "Zeros = pc.Constant(\"Zeros\", np.zeros([n-1,n-1]))\n",
    "s = np.matrix(sp.Matrix(vector_sw_pr_mode0_geq0[:-1])/2)\n",
    "vec = pc.Constant(\"vector_sw_pr_mode0_geq0_halved\",  s.astype(np.double))\n",
    "\n",
    "Q1 = (Zeros & vec) // (vec.T &  theta - new_refs[0] )\n",
    "\n",
    "Q2 = (Zeros & -vec) // (-vec.T &  -theta + new_refs[0] )\n",
    "\n",
    "eta2_const = pc.Constant(\"eta2\", eta2)\n",
    "mu2_const = pc.Constant(\"mu2\", mu2)\n",
    "\n",
    "Cond2 = P2b - mu2 * Q2\n",
    "\n",
    "sdp.add_constraint(Cond2 >> 0)\n",
    "\n",
    "Cond6 = A1bar_old.T * P2b + P2b * A1bar_old + eta2 * Q2\n",
    "\n",
    "# sdp.add_constraint(Cond6 << 0)\n",
    "\n",
    "# QQ1A = sp.Matrix.vstack(\n",
    "#         sp.Matrix.hstack(sp.Matrix.zeros(n-1,n-1), (sp.Matrix(vector_sw_pr_mode0_geq0[:-1])/2)),\n",
    "#         sp.Matrix.hstack(sp.Matrix(vector_sw_pr_mode0_geq0[:-1]).transpose()/2, \n",
    "#                          sp.Matrix([theta - new_refs[0]]))\n",
    "#     )\n",
    "# QQ2A = sp.Matrix.vstack(\n",
    "#     sp.Matrix.hstack(sp.Matrix.zeros(n-1,n-1), -(sp.Matrix(vector_sw_pr_mode0_geq0[:-1])/2)),\n",
    "#     sp.Matrix.hstack(-sp.Matrix(vector_sw_pr_mode0_geq0[:-1]).transpose()/2, \n",
    "#                         -sp.Matrix([vector_sw_pr_mode0_geq0[-1]]))\n",
    "#     )\n",
    "\n",
    "\n",
    "\n"
   ]
  },
  {
   "cell_type": "code",
   "execution_count": 23,
   "metadata": {},
   "outputs": [
    {
     "data": {
      "text/plain": [
       "<9×9 Real Constant: P1_old_coord + lambdas_const[0]·(canvec0·[C0; (old_refs + [0; change_in_r])[0]]ᵀ + (canvec0·[C0; (old_refs + [0; change_in_r])[0]]ᵀ)ᵀ) + lambdas_const[1]·(canvec1·[C0; (old_refs + [0; change_in_r])[0]]ᵀ + (canvec1·[C0; (old_refs + [0; change_in_r])[0]]ᵀ)ᵀ) + lambdas_const[2]·(canvec2·[C0; (old_refs + [0; change_in_r])[0]]ᵀ + (canvec2·[C0; (old_refs + [0; change_in_r])[0]]ᵀ)ᵀ) + lambdas_const[3]·(canvec3·[C0; (old_refs + [0; change_in_r])[0]]ᵀ + (canvec3·[C0; (old_refs + [0; change_in_r])[0]]ᵀ)ᵀ) + lambdas_const[4]·(canvec4·[C0; (old_refs + [0; change_in_r])[0]]ᵀ + (canvec4·[C0; (old_refs + [0; change_in_r])[0]]ᵀ)ᵀ) + lambdas_const[5]·(canvec5·[C0; (old_refs + [0; change_in_r])[0]]ᵀ + (canvec5·[C0; (old_refs + [0; change_in_r])[0]]ᵀ)ᵀ) + lambdas_const[6]·(canvec6·[C0; (old_refs + [0; change_in_r])[0]]ᵀ + (canvec6·[C0; (old_refs + [0; change_in_r])[0]]ᵀ)ᵀ) + lambdas_const[7]·(canvec7·[C0; (old_refs + [0; change_in_r])[0]]ᵀ + (canvec7·[C0; (old_refs + [0; change_in_r])[0]]ᵀ)ᵀ) + lambdas_const[8]·(canvec8·[C0; (old_refs + [0; change_in_r])[0]]ᵀ + (canvec8·[C0; (old_refs + [0; change_in_r])[0]]ᵀ)ᵀ) - 0.00253903·[Zeros, -vector_sw_pr_mode0_geq0_halved; -vector_sw_pr_mode0_geq0_halvedᵀ, -1 + (old_refs + [0; change_in_r])[0]]>"
      ]
     },
     "execution_count": 23,
     "metadata": {},
     "output_type": "execute_result"
    }
   ],
   "source": [
    "P2b - mu2 * Q2"
   ]
  },
  {
   "cell_type": "code",
   "execution_count": 21,
   "metadata": {},
   "outputs": [
    {
     "name": "stdout",
     "output_type": "stream",
     "text": [
      "Semidefinite Program\n",
      "  maximize [0; change_in_r][0] + [0; change_in_r][1] + [0; change_in_r][2] + [0; change_in_r][3]\n",
      "  over\n",
      "    3×1 real variable change_in_r\n",
      "  subject to\n",
      "    P1_old_coord + lambdas_const[0]·(canvec0·[C0; (old_refs + [0;\n",
      "      change_in_r])[0]]ᵀ + (canvec0·[C0; (old_refs + [0;\n",
      "      change_in_r])[0]]ᵀ)ᵀ) + lambdas_const[1]·(canvec1·[C0; (old_refs\n",
      "      + [0; change_in_r])[0]]ᵀ + (canvec1·[C0; (old_refs + [0;\n",
      "      change_in_r])[0]]ᵀ)ᵀ) + lambdas_const[2]·(canvec2·[C0; (old_refs\n",
      "      + [0; change_in_r])[0]]ᵀ + (canvec2·[C0; (old_refs + [0;\n",
      "      change_in_r])[0]]ᵀ)ᵀ) + lambdas_const[3]·(canvec3·[C0; (old_refs\n",
      "      + [0; change_in_r])[0]]ᵀ + (canvec3·[C0; (old_refs + [0;\n",
      "      change_in_r])[0]]ᵀ)ᵀ) + lambdas_const[4]·(canvec4·[C0; (old_refs\n",
      "      + [0; change_in_r])[0]]ᵀ + (canvec4·[C0; (old_refs + [0;\n",
      "      change_in_r])[0]]ᵀ)ᵀ) + lambdas_const[5]·(canvec5·[C0; (old_refs\n",
      "      + [0; change_in_r])[0]]ᵀ + (canvec5·[C0; (old_refs + [0;\n",
      "      change_in_r])[0]]ᵀ)ᵀ) + lambdas_const[6]·(canvec6·[C0; (old_refs\n",
      "      + [0; change_in_r])[0]]ᵀ + (canvec6·[C0; (old_refs + [0;\n",
      "      change_in_r])[0]]ᵀ)ᵀ) + lambdas_const[7]·(canvec7·[C0; (old_refs\n",
      "      + [0; change_in_r])[0]]ᵀ + (canvec7·[C0; (old_refs + [0;\n",
      "      change_in_r])[0]]ᵀ)ᵀ) + lambdas_const[8]·(canvec8·[C0; (old_refs\n",
      "      + [0; change_in_r])[0]]ᵀ + (canvec8·[C0; (old_refs + [0;\n",
      "      change_in_r])[0]]ᵀ)ᵀ) - 0.00253903·[Zeros,\n",
      "      -vector_sw_pr_mode0_geq0_halved;\n",
      "      -vector_sw_pr_mode0_geq0_halvedᵀ, -1 + (old_refs + [0;\n",
      "      change_in_r])[0]] ≼ 0\n",
      "    P1_old_coord + lambdas_const[0]·(canvec0·[C0; (old_refs + [0;\n",
      "      change_in_r])[0]]ᵀ + (canvec0·[C0; (old_refs + [0;\n",
      "      change_in_r])[0]]ᵀ)ᵀ) + lambdas_const[1]·(canvec1·[C0; (old_refs\n",
      "      + [0; change_in_r])[0]]ᵀ + (canvec1·[C0; (old_refs + [0;\n",
      "      change_in_r])[0]]ᵀ)ᵀ) + lambdas_const[2]·(canvec2·[C0; (old_refs\n",
      "      + [0; change_in_r])[0]]ᵀ + (canvec2·[C0; (old_refs + [0;\n",
      "      change_in_r])[0]]ᵀ)ᵀ) + lambdas_const[3]·(canvec3·[C0; (old_refs\n",
      "      + [0; change_in_r])[0]]ᵀ + (canvec3·[C0; (old_refs + [0;\n",
      "      change_in_r])[0]]ᵀ)ᵀ) + lambdas_const[4]·(canvec4·[C0; (old_refs\n",
      "      + [0; change_in_r])[0]]ᵀ + (canvec4·[C0; (old_refs + [0;\n",
      "      change_in_r])[0]]ᵀ)ᵀ) + lambdas_const[5]·(canvec5·[C0; (old_refs\n",
      "      + [0; change_in_r])[0]]ᵀ + (canvec5·[C0; (old_refs + [0;\n",
      "      change_in_r])[0]]ᵀ)ᵀ) + lambdas_const[6]·(canvec6·[C0; (old_refs\n",
      "      + [0; change_in_r])[0]]ᵀ + (canvec6·[C0; (old_refs + [0;\n",
      "      change_in_r])[0]]ᵀ)ᵀ) + lambdas_const[7]·(canvec7·[C0; (old_refs\n",
      "      + [0; change_in_r])[0]]ᵀ + (canvec7·[C0; (old_refs + [0;\n",
      "      change_in_r])[0]]ᵀ)ᵀ) + lambdas_const[8]·(canvec8·[C0; (old_refs\n",
      "      + [0; change_in_r])[0]]ᵀ + (canvec8·[C0; (old_refs + [0;\n",
      "      change_in_r])[0]]ᵀ)ᵀ) - 0.00253903·[Zeros,\n",
      "      -vector_sw_pr_mode0_geq0_halved;\n",
      "      -vector_sw_pr_mode0_geq0_halvedᵀ, -1 + (old_refs + [0;\n",
      "      change_in_r])[0]] ≽ 0\n",
      "    P1_old_coord + lambdas_const[0]·(canvec0·[C0; (old_refs + [0;\n",
      "      change_in_r])[0]]ᵀ + (canvec0·[C0; (old_refs + [0;\n",
      "      change_in_r])[0]]ᵀ)ᵀ) + lambdas_const[1]·(canvec1·[C0; (old_refs\n",
      "      + [0; change_in_r])[0]]ᵀ + (canvec1·[C0; (old_refs + [0;\n",
      "      change_in_r])[0]]ᵀ)ᵀ) + lambdas_const[2]·(canvec2·[C0; (old_refs\n",
      "      + [0; change_in_r])[0]]ᵀ + (canvec2·[C0; (old_refs + [0;\n",
      "      change_in_r])[0]]ᵀ)ᵀ) + lambdas_const[3]·(canvec3·[C0; (old_refs\n",
      "      + [0; change_in_r])[0]]ᵀ + (canvec3·[C0; (old_refs + [0;\n",
      "      change_in_r])[0]]ᵀ)ᵀ) + lambdas_const[4]·(canvec4·[C0; (old_refs\n",
      "      + [0; change_in_r])[0]]ᵀ + (canvec4·[C0; (old_refs + [0;\n",
      "      change_in_r])[0]]ᵀ)ᵀ) + lambdas_const[5]·(canvec5·[C0; (old_refs\n",
      "      + [0; change_in_r])[0]]ᵀ + (canvec5·[C0; (old_refs + [0;\n",
      "      change_in_r])[0]]ᵀ)ᵀ) + lambdas_const[6]·(canvec6·[C0; (old_refs\n",
      "      + [0; change_in_r])[0]]ᵀ + (canvec6·[C0; (old_refs + [0;\n",
      "      change_in_r])[0]]ᵀ)ᵀ) + lambdas_const[7]·(canvec7·[C0; (old_refs\n",
      "      + [0; change_in_r])[0]]ᵀ + (canvec7·[C0; (old_refs + [0;\n",
      "      change_in_r])[0]]ᵀ)ᵀ) + lambdas_const[8]·(canvec8·[C0; (old_refs\n",
      "      + [0; change_in_r])[0]]ᵀ + (canvec8·[C0; (old_refs + [0;\n",
      "      change_in_r])[0]]ᵀ)ᵀ) - 0.00253903·[Zeros,\n",
      "      -vector_sw_pr_mode0_geq0_halved;\n",
      "      -vector_sw_pr_mode0_geq0_halvedᵀ, -1 + (old_refs + [0;\n",
      "      change_in_r])[0]] ≽ 0\n"
     ]
    }
   ],
   "source": [
    "print(sdp)"
   ]
  },
  {
   "cell_type": "code",
   "execution_count": 22,
   "metadata": {},
   "outputs": [
    {
     "ename": "SolutionFailure",
     "evalue": "Code 3: Primal solution state claimed empty but optimality is required (primals=True).",
     "output_type": "error",
     "traceback": [
      "\u001b[0;31m---------------------------------------------------------------------------\u001b[0m",
      "\u001b[0;31mSolutionFailure\u001b[0m                           Traceback (most recent call last)",
      "Cell \u001b[0;32mIn[22], line 1\u001b[0m\n\u001b[0;32m----> 1\u001b[0m solution \u001b[39m=\u001b[39m sdp\u001b[39m.\u001b[39;49msolve(solver \u001b[39m=\u001b[39;49m \u001b[39m'\u001b[39;49m\u001b[39mcvxopt\u001b[39;49m\u001b[39m'\u001b[39;49m)\n",
      "File \u001b[0;32m~/.local/lib/python3.10/site-packages/picos/modeling/problem.py:1832\u001b[0m, in \u001b[0;36mProblem.solve\u001b[0;34m(self, **extra_options)\u001b[0m\n\u001b[1;32m   1830\u001b[0m vars_ \u001b[39m=\u001b[39m \u001b[39mself\u001b[39m\u001b[39m.\u001b[39m_variables\u001b[39m.\u001b[39mvalues()\n\u001b[1;32m   1831\u001b[0m \u001b[39mif\u001b[39;00m solution\u001b[39m.\u001b[39mprimalStatus \u001b[39m!=\u001b[39m SS_OPTIMAL:\n\u001b[0;32m-> 1832\u001b[0m     \u001b[39mraise\u001b[39;00m SolutionFailure(\u001b[39m3\u001b[39m, \u001b[39m\"\u001b[39m\u001b[39mPrimal solution state claimed \u001b[39m\u001b[39m{}\u001b[39;00m\u001b[39m \u001b[39m\u001b[39m\"\u001b[39m\n\u001b[1;32m   1833\u001b[0m         \u001b[39m\"\u001b[39m\u001b[39mbut optimality is required (primals=True).\u001b[39m\u001b[39m\"\u001b[39m\n\u001b[1;32m   1834\u001b[0m         \u001b[39m.\u001b[39mformat(solution\u001b[39m.\u001b[39mprimalStatus))\n\u001b[1;32m   1835\u001b[0m \u001b[39melif\u001b[39;00m \u001b[39mNone\u001b[39;00m \u001b[39min\u001b[39;00m solution\u001b[39m.\u001b[39mprimals\u001b[39m.\u001b[39mvalues() \\\n\u001b[1;32m   1836\u001b[0m \u001b[39mor\u001b[39;00m \u001b[39many\u001b[39m(var \u001b[39mnot\u001b[39;00m \u001b[39min\u001b[39;00m solution\u001b[39m.\u001b[39mprimals \u001b[39mfor\u001b[39;00m var \u001b[39min\u001b[39;00m vars_):\n\u001b[1;32m   1837\u001b[0m     \u001b[39mraise\u001b[39;00m SolutionFailure(\u001b[39m3\u001b[39m, \u001b[39m\"\u001b[39m\u001b[39mThe primal solution is incomplete\u001b[39m\u001b[39m\"\u001b[39m\n\u001b[1;32m   1838\u001b[0m         \u001b[39m\"\u001b[39m\u001b[39m but full primals are required (primals=True).\u001b[39m\u001b[39m\"\u001b[39m)\n",
      "\u001b[0;31mSolutionFailure\u001b[0m: Code 3: Primal solution state claimed empty but optimality is required (primals=True)."
     ]
    }
   ],
   "source": [
    "solution = sdp.solve(solver = 'cvxopt')"
   ]
  },
  {
   "cell_type": "code",
   "execution_count": 380,
   "metadata": {},
   "outputs": [
    {
     "data": {
      "text/plain": [
       "array([ 0.   ,  5.203, -0.987, 19.988])"
      ]
     },
     "execution_count": 380,
     "metadata": {},
     "output_type": "execute_result"
    }
   ],
   "source": [
    "new_refs.np"
   ]
  },
  {
   "cell_type": "code",
   "execution_count": null,
   "metadata": {},
   "outputs": [],
   "source": []
  },
  {
   "cell_type": "code",
   "execution_count": 9,
   "metadata": {},
   "outputs": [
    {
     "data": {
      "text/plain": [
       "array([[ 0.5],\n",
       "       [ 5. ],\n",
       "       [-1. ],\n",
       "       [20. ]])"
      ]
     },
     "execution_count": 9,
     "metadata": {},
     "output_type": "execute_result"
    }
   ],
   "source": [
    "lambdas = pc.RealVariable(\"lambdas\", n)\n",
    "\n",
    "P2b = pc.SymmetricVariable(\"P2b\", n)\n",
    "\n",
    "cd = sp.Matrix.hstack(QQ1[-1,:-1]*2, sp.Matrix([QQ1[-1,-1]]))\n",
    "Qcd_consts = {}\n",
    "for index in range(n):\n",
    "    Qcd_consts[index] = pc.Constant(f\"Qcd{index}\", np.matrix(Qcd[index], float))\n",
    "\n",
    "expression_P2b = P1b\n",
    "for index in range(n):\n",
    "    expression_P2b = expression_P2b + lambdas[index] * Qcd_consts[index]\n",
    "\n",
    "sdp.add_constraint(P2b == expression_P2b)\n",
    "\n",
    "A1b = pc.Constant(\"A1b\", np.matrix(A1bar, float))\n",
    "A2b = pc.Constant(\"A2b\", np.matrix(A2bar, float))\n",
    "\n",
    "# alpha = pc.RealVariable(\"alpha\")\n",
    "# beta = pc.RealVariable(\"beta\")\n",
    "# gamma = pc.RealVariable(\"gamma\")\n",
    "# sdp.add_constraint(alpha >> 0)\n",
    "# sdp.add_constraint(beta >> 0)\n",
    "# sdp.add_constraint(gamma >> 0)\n",
    "\n",
    "# Q1 = pc.Constant(\"Q1\", QQ1)\n",
    "Q2 = pc.Constant(\"Q2\", np.matrix(QQ2, float))\n",
    "\n",
    "# I = pc.Constant(\"I\", Ibar)\n",
    "\n",
    "# mu1 = pc.RealVariable(\"mu1\")\n",
    "# sdp.add_constraint(mu1 >> 0)\n",
    "mu2 = pc.RealVariable(\"mu2\")\n",
    "sdp.add_constraint(mu2 >> 0)\n",
    "\n",
    "# eta1 = pc.RealVariable(\"eta1\")\n",
    "# sdp.add_constraint(eta1 >> 0)\n",
    "eta2 = pc.RealVariable(\"eta2\")\n",
    "sdp.add_constraint(eta2 >> 0)\n",
    "\n",
    "if normalize == True:\n",
    "    # The following is a normalization condition. It needs to hold (easy to see with Sylvester method).\n",
    "    # Sometimes the solver does not provide a solution if we give it this condition, but does provide\n",
    "    # a solution if we do not. This is strange and could be investigated.\n",
    "    sdp.add_constraint((P1b[0,0]) >> 1)\n",
    "\n",
    "Cond1 = P1b \n",
    "Cond2 = P2b - mu2 * Q2  \n",
    "\n",
    "Cond5 = A1b.T * P1b + P1b * A1b \n",
    "Cond6 = A2b.T * P2b + P2b * A2b + eta2 * Q2 \n",
    "\n",
    "\n",
    "\n",
    "# conditions 3.5\n",
    "sdp.add_constraint(Cond1 >> 0)\n",
    "sdp.add_constraint(Cond2 >> 0)\n",
    "\n",
    "\n",
    "# conditions 3.7\n",
    "sdp.add_constraint(Cond5 << 0)\n",
    "sdp.add_constraint(Cond6 << 0)\n",
    "\n",
    "sol = sdp.solve(solver=sdp_solver)\n"
   ]
  },
  {
   "cell_type": "code",
   "execution_count": null,
   "metadata": {},
   "outputs": [],
   "source": []
  }
 ],
 "metadata": {
  "kernelspec": {
   "display_name": "Python 3",
   "language": "python",
   "name": "python3"
  },
  "language_info": {
   "codemirror_mode": {
    "name": "ipython",
    "version": 3
   },
   "file_extension": ".py",
   "mimetype": "text/x-python",
   "name": "python",
   "nbconvert_exporter": "python",
   "pygments_lexer": "ipython3",
   "version": "3.10.6"
  },
  "orig_nbformat": 4
 },
 "nbformat": 4,
 "nbformat_minor": 2
}
